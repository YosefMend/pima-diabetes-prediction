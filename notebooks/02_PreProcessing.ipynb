{
 "cells": [
  {
   "cell_type": "markdown",
   "id": "a0eb6998-6d0f-4d14-b29c-0058c1e4796e",
   "metadata": {},
   "source": [
    "### 02_Preprocessing: Missing-Value Handling & Dataset Splits\n",
    "\n",
    "In this notebook we take the raw Pima dataset and produce three versions for modeling:\n",
    "- **dfA**: drop any row with a physiologically impossible zero\n",
    "- **dfB**: replace zeros with NaN, then **median**-impute\n",
    "- **dfC**: replace zeros with NaN, then **KNN**-impute\n"
   ]
  },
  {
   "cell_type": "code",
   "execution_count": 1,
   "id": "e75d6eda-75e4-4390-b1c6-565a60229623",
   "metadata": {},
   "outputs": [],
   "source": [
    "# 1) Imports\n",
    "import pandas as pd\n",
    "import numpy as np\n",
    "from sklearn.impute import SimpleImputer, KNNImputer"
   ]
  },
  {
   "cell_type": "code",
   "execution_count": 15,
   "id": "f00060c0-8741-4453-996f-e2d627a4eeaf",
   "metadata": {},
   "outputs": [
    {
     "data": {
      "text/html": [
       "<div>\n",
       "<style scoped>\n",
       "    .dataframe tbody tr th:only-of-type {\n",
       "        vertical-align: middle;\n",
       "    }\n",
       "\n",
       "    .dataframe tbody tr th {\n",
       "        vertical-align: top;\n",
       "    }\n",
       "\n",
       "    .dataframe thead th {\n",
       "        text-align: right;\n",
       "    }\n",
       "</style>\n",
       "<table border=\"1\" class=\"dataframe\">\n",
       "  <thead>\n",
       "    <tr style=\"text-align: right;\">\n",
       "      <th></th>\n",
       "      <th>Pregnancies</th>\n",
       "      <th>Glucose</th>\n",
       "      <th>BloodPressure</th>\n",
       "      <th>SkinThickness</th>\n",
       "      <th>Insulin</th>\n",
       "      <th>BMI</th>\n",
       "      <th>DiabetesPedigreeFunction</th>\n",
       "      <th>Age</th>\n",
       "      <th>Outcome</th>\n",
       "    </tr>\n",
       "  </thead>\n",
       "  <tbody>\n",
       "    <tr>\n",
       "      <th>0</th>\n",
       "      <td>6</td>\n",
       "      <td>148</td>\n",
       "      <td>72</td>\n",
       "      <td>35</td>\n",
       "      <td>0</td>\n",
       "      <td>33.6</td>\n",
       "      <td>0.627</td>\n",
       "      <td>50</td>\n",
       "      <td>1</td>\n",
       "    </tr>\n",
       "    <tr>\n",
       "      <th>1</th>\n",
       "      <td>1</td>\n",
       "      <td>85</td>\n",
       "      <td>66</td>\n",
       "      <td>29</td>\n",
       "      <td>0</td>\n",
       "      <td>26.6</td>\n",
       "      <td>0.351</td>\n",
       "      <td>31</td>\n",
       "      <td>0</td>\n",
       "    </tr>\n",
       "    <tr>\n",
       "      <th>2</th>\n",
       "      <td>8</td>\n",
       "      <td>183</td>\n",
       "      <td>64</td>\n",
       "      <td>0</td>\n",
       "      <td>0</td>\n",
       "      <td>23.3</td>\n",
       "      <td>0.672</td>\n",
       "      <td>32</td>\n",
       "      <td>1</td>\n",
       "    </tr>\n",
       "    <tr>\n",
       "      <th>3</th>\n",
       "      <td>1</td>\n",
       "      <td>89</td>\n",
       "      <td>66</td>\n",
       "      <td>23</td>\n",
       "      <td>94</td>\n",
       "      <td>28.1</td>\n",
       "      <td>0.167</td>\n",
       "      <td>21</td>\n",
       "      <td>0</td>\n",
       "    </tr>\n",
       "    <tr>\n",
       "      <th>4</th>\n",
       "      <td>0</td>\n",
       "      <td>137</td>\n",
       "      <td>40</td>\n",
       "      <td>35</td>\n",
       "      <td>168</td>\n",
       "      <td>43.1</td>\n",
       "      <td>2.288</td>\n",
       "      <td>33</td>\n",
       "      <td>1</td>\n",
       "    </tr>\n",
       "  </tbody>\n",
       "</table>\n",
       "</div>"
      ],
      "text/plain": [
       "   Pregnancies  Glucose  BloodPressure  SkinThickness  Insulin   BMI  \\\n",
       "0            6      148             72             35        0  33.6   \n",
       "1            1       85             66             29        0  26.6   \n",
       "2            8      183             64              0        0  23.3   \n",
       "3            1       89             66             23       94  28.1   \n",
       "4            0      137             40             35      168  43.1   \n",
       "\n",
       "   DiabetesPedigreeFunction  Age  Outcome  \n",
       "0                     0.627   50        1  \n",
       "1                     0.351   31        0  \n",
       "2                     0.672   32        1  \n",
       "3                     0.167   21        0  \n",
       "4                     2.288   33        1  "
      ]
     },
     "metadata": {},
     "output_type": "display_data"
    }
   ],
   "source": [
    "# Load and display Diabetes dataframe\n",
    "df = pd.read_csv('diabetes.csv')\n",
    "\n",
    "display(df.head())"
   ]
  },
  {
   "cell_type": "code",
   "execution_count": 10,
   "id": "59e78ec9-f3dd-479c-a9a5-69682709451c",
   "metadata": {},
   "outputs": [
    {
     "name": "stdout",
     "output_type": "stream",
     "text": [
      "Zeros Per Column:\n",
      "Glucose            5\n",
      "BloodPressure     35\n",
      "SkinThickness    227\n",
      "Insulin          374\n",
      "BMI               11\n",
      "dtype: int64\n"
     ]
    }
   ],
   "source": [
    "# Identify columns with missing values\n",
    "missing_cols = ['Glucose','BloodPressure','SkinThickness','Insulin','BMI']\n",
    "print(\"Zeros Per Column:\")\n",
    "print((df[missing_cols]==0).sum())"
   ]
  },
  {
   "cell_type": "code",
   "execution_count": 17,
   "id": "4d09fadd-7812-424d-9a73-ff5f18a4c9c0",
   "metadata": {},
   "outputs": [],
   "source": [
    "# Define columns with missing values\n",
    "missing_cols = ['Glucose','BloodPressure','SkinThickness','Insulin','BMI']\n",
    "\n",
    "# Define all feature columns to be used\n",
    "feature_cols = [\n",
    "    'Pregnancies','Glucose','BloodPressure',\n",
    "    'SkinThickness','Insulin','BMI',\n",
    "    'DiabetesPedigreeFunction','Age'\n",
    "]\n",
    "\n",
    "# Define Outcome column\n",
    "target_col = 'Outcome'"
   ]
  },
  {
   "cell_type": "markdown",
   "id": "ae476b1c-fc38-49f0-b2ae-74076ed2bb6d",
   "metadata": {},
   "source": [
    "### Creating dataframe for Trial A (dropping all rows with missing values (0's) in these key columns)"
   ]
  },
  {
   "cell_type": "code",
   "execution_count": 22,
   "id": "75fc432f-6037-42b3-b8da-8a8bc98fccba",
   "metadata": {},
   "outputs": [
    {
     "name": "stdout",
     "output_type": "stream",
     "text": [
      "Trial A Dropped Rows: 376\n",
      "Trial A Kept Rows: 392\n",
      "dfA (drop zeros) shape: (392, 9)\n"
     ]
    }
   ],
   "source": [
    "# Trial A: Drop any row where any missing_col == 0\n",
    "dfA_mask = ~(df[missing_cols] == 0).any(axis=1)\n",
    "dfA = df.loc[dfA_mask, feature_cols + [target_col]].reset_index(drop=True)\n",
    "\n",
    "# How many rows dropped from total df for Trial A dataframe\n",
    "n_keep = dfA_mask.sum()\n",
    "n_dropped = (~dfA_mask).sum()\n",
    "\n",
    "print(f\"Trial A Dropped Rows: {n_dropped}\")\n",
    "print(f\"Trial A Kept Rows: {n_keep}\")\n",
    "print(f\"dfA (drop zeros) shape: {dfA.shape}\")"
   ]
  },
  {
   "cell_type": "markdown",
   "id": "922f3891-cbc6-4104-b7b8-2e4c64a469fc",
   "metadata": {},
   "source": [
    "### Creating dataframe for Trial B (Median imputation on zeros)."
   ]
  },
  {
   "cell_type": "code",
   "execution_count": 25,
   "id": "62a1b840-0b9b-423e-bc7d-3054fb1675fd",
   "metadata": {},
   "outputs": [
    {
     "name": "stdout",
     "output_type": "stream",
     "text": [
      "dfB_filled (median impute) shape: (768, 9)\n"
     ]
    }
   ],
   "source": [
    "# Trial B: Median imputation on zeros -> NaN -> median fill\n",
    "dfB_filled = df.copy()\n",
    "dfB_filled[missing_cols] = dfB_filled[missing_cols].replace(0, np.nan)\n",
    "\n",
    "# Set up Imputer\n",
    "med_imp = SimpleImputer(strategy='median')\n",
    "\n",
    "# Only impute feature columns, keep Outcome unchanged\n",
    "dfB_filled[feature_cols] = med_imp.fit_transform(dfB[feature_cols])\n",
    "print(f\"dfB_filled (median impute) shape: {dfB_filled.shape}\")"
   ]
  },
  {
   "cell_type": "markdown",
   "id": "093da0bb-da13-4295-92bc-0ecc12fe4d15",
   "metadata": {},
   "source": [
    "### Creating dataframe for Trial C (KNN Imputation on zeros). "
   ]
  },
  {
   "cell_type": "code",
   "execution_count": 26,
   "id": "5066ea28-ffb6-4999-8aea-eb83d199a792",
   "metadata": {},
   "outputs": [
    {
     "name": "stdout",
     "output_type": "stream",
     "text": [
      "dfC_filled (KNN impute) shape: (768, 9)\n"
     ]
    }
   ],
   "source": [
    "# Trial C: KNN Imputation on zeros -> NaN -> KNN fill\n",
    "dfC_filled = df.copy()\n",
    "dfC_filled[missing_cols] = dfC_filled[missing_cols].replace(0, np.nan)\n",
    "\n",
    "# Set up imputer\n",
    "knn_imp = KNNImputer(n_neighbors=5)\n",
    "\n",
    "# Only impute features columns, keep Outcome unchanged\n",
    "dfC_filled[feature_cols] = knn_imp.fit_transform(dfC[feature_cols])\n",
    "print(f\"dfC_filled (KNN impute) shape: {dfC_filled.shape}\")"
   ]
  },
  {
   "cell_type": "code",
   "execution_count": 27,
   "id": "c88e3c8f-e73a-42b0-892f-dca4b51a2510",
   "metadata": {},
   "outputs": [
    {
     "name": "stdout",
     "output_type": "stream",
     "text": [
      "Trial A: zeros remaining=0, NaNs remaining=0\n",
      "Trial B: zeros remaining=0, NaNs remaining=0\n",
      "Trial C: zeros remaining=0, NaNs remaining=0\n"
     ]
    }
   ],
   "source": [
    "# Check to see if all zeros/NaNs are replaced in each dataframe\n",
    "for name, d in [('A', dfA), ('B', dfB_filled), ('C', dfC_filled)]:\n",
    "    zeros = (d[missing_cols] == 0).sum().sum()\n",
    "    nans  = d[feature_cols].isna().sum().sum()\n",
    "    print(f\"Trial {name}: zeros remaining={zeros}, NaNs remaining={nans}\")"
   ]
  }
 ],
 "metadata": {
  "kernelspec": {
   "display_name": "Python 3 (ipykernel)",
   "language": "python",
   "name": "python3"
  },
  "language_info": {
   "codemirror_mode": {
    "name": "ipython",
    "version": 3
   },
   "file_extension": ".py",
   "mimetype": "text/x-python",
   "name": "python",
   "nbconvert_exporter": "python",
   "pygments_lexer": "ipython3",
   "version": "3.10.13"
  }
 },
 "nbformat": 4,
 "nbformat_minor": 5
}
